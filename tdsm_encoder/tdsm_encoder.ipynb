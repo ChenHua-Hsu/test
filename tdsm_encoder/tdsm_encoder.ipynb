{
 "cells": [
  {
   "cell_type": "markdown",
   "id": "b42a868f",
   "metadata": {},
   "source": [
    "# tdsm encoder\n",
    "Here provides the interface of interacting with function in `util` to perform the training & sampling of generative model. "
   ]
  },
  {
   "cell_type": "markdown",
   "id": "9665c976",
   "metadata": {},
   "source": [
    "## import model"
   ]
  },
  {
   "cell_type": "code",
   "execution_count": 5,
   "id": "273fe911",
   "metadata": {},
   "outputs": [
    {
     "name": "stdout",
     "output_type": "stream",
     "text": [
      "Requirement already satisfied: torchvision in /Users/chenhua/anaconda3/lib/python3.10/site-packages (0.15.2)\n",
      "Requirement already satisfied: pillow!=8.3.*,>=5.3.0 in /Users/chenhua/anaconda3/lib/python3.10/site-packages (from torchvision) (9.4.0)\n",
      "Requirement already satisfied: torch==2.0.1 in /Users/chenhua/anaconda3/lib/python3.10/site-packages (from torchvision) (2.0.1)\n",
      "Requirement already satisfied: requests in /Users/chenhua/anaconda3/lib/python3.10/site-packages (from torchvision) (2.28.1)\n",
      "Requirement already satisfied: numpy in /Users/chenhua/anaconda3/lib/python3.10/site-packages (from torchvision) (1.23.5)\n",
      "Requirement already satisfied: jinja2 in /Users/chenhua/anaconda3/lib/python3.10/site-packages (from torch==2.0.1->torchvision) (3.1.2)\n",
      "Requirement already satisfied: networkx in /Users/chenhua/anaconda3/lib/python3.10/site-packages (from torch==2.0.1->torchvision) (2.8.4)\n",
      "Requirement already satisfied: filelock in /Users/chenhua/anaconda3/lib/python3.10/site-packages (from torch==2.0.1->torchvision) (3.9.0)\n",
      "Requirement already satisfied: sympy in /Users/chenhua/anaconda3/lib/python3.10/site-packages (from torch==2.0.1->torchvision) (1.11.1)\n",
      "Requirement already satisfied: typing-extensions in /Users/chenhua/anaconda3/lib/python3.10/site-packages (from torch==2.0.1->torchvision) (4.4.0)\n",
      "Requirement already satisfied: charset-normalizer<3,>=2 in /Users/chenhua/anaconda3/lib/python3.10/site-packages (from requests->torchvision) (2.0.4)\n",
      "Requirement already satisfied: urllib3<1.27,>=1.21.1 in /Users/chenhua/anaconda3/lib/python3.10/site-packages (from requests->torchvision) (1.26.14)\n",
      "Requirement already satisfied: certifi>=2017.4.17 in /Users/chenhua/anaconda3/lib/python3.10/site-packages (from requests->torchvision) (2022.12.7)\n",
      "Requirement already satisfied: idna<4,>=2.5 in /Users/chenhua/anaconda3/lib/python3.10/site-packages (from requests->torchvision) (3.4)\n",
      "Requirement already satisfied: MarkupSafe>=2.0 in /Users/chenhua/anaconda3/lib/python3.10/site-packages (from jinja2->torch==2.0.1->torchvision) (2.1.1)\n",
      "Requirement already satisfied: mpmath>=0.19 in /Users/chenhua/anaconda3/lib/python3.10/site-packages/mpmath-1.2.1-py3.10.egg (from sympy->torch==2.0.1->torchvision) (1.2.1)\n",
      "Requirement already satisfied: torch in /Users/chenhua/anaconda3/lib/python3.10/site-packages (2.0.1)\n",
      "Requirement already satisfied: networkx in /Users/chenhua/anaconda3/lib/python3.10/site-packages (from torch) (2.8.4)\n",
      "Requirement already satisfied: filelock in /Users/chenhua/anaconda3/lib/python3.10/site-packages (from torch) (3.9.0)\n",
      "Requirement already satisfied: sympy in /Users/chenhua/anaconda3/lib/python3.10/site-packages (from torch) (1.11.1)\n",
      "Requirement already satisfied: jinja2 in /Users/chenhua/anaconda3/lib/python3.10/site-packages (from torch) (3.1.2)\n",
      "Requirement already satisfied: typing-extensions in /Users/chenhua/anaconda3/lib/python3.10/site-packages (from torch) (4.4.0)\n",
      "Requirement already satisfied: MarkupSafe>=2.0 in /Users/chenhua/anaconda3/lib/python3.10/site-packages (from jinja2->torch) (2.1.1)\n",
      "Requirement already satisfied: mpmath>=0.19 in /Users/chenhua/anaconda3/lib/python3.10/site-packages/mpmath-1.2.1-py3.10.egg (from sympy->torch) (1.2.1)\n",
      "Requirement already satisfied: tqdm in /Users/chenhua/anaconda3/lib/python3.10/site-packages (4.64.1)\n",
      "\u001b[31mERROR: Could not find a version that satisfies the requirement util.dataset (from versions: none)\u001b[0m\u001b[31m\n",
      "\u001b[0m\u001b[31mERROR: No matching distribution found for util.dataset\u001b[0m\u001b[31m\n",
      "\u001b[0m"
     ]
    }
   ],
   "source": [
    "!pip3 install torchvision\n",
    "!pip3 install torch\n",
    "!pip3 install tqdm"
   ]
  },
  {
   "cell_type": "code",
   "execution_count": 10,
   "id": "4f48dd31",
   "metadata": {
    "scrolled": true
   },
   "outputs": [],
   "source": [
    "import time, functools, torch, os,sys, random, fnmatch, psutil\n",
    "from datetime import datetime\n",
    "import numpy as np\n",
    "import matplotlib.pyplot as plt\n",
    "import torch.nn as nn\n",
    "import torch.nn.functional as F\n",
    "from torch.optim import Adam\n",
    "import torchvision.transforms as transforms\n",
    "from torch.utils.data import Dataset, DataLoader\n",
    "import util.dataset_structure, util.display, util.model\n",
    "import tqdm\n",
    "from utils import VESDE"
   ]
  },
  {
   "cell_type": "markdown",
   "id": "111518e1",
   "metadata": {},
   "source": [
    "## Parameter setting"
   ]
  },
  {
   "cell_type": "code",
   "execution_count": 2,
   "id": "da062e94",
   "metadata": {},
   "outputs": [],
   "source": [
    "device = 'cuda' if torch.cuda.is_available() else 'cpu'\n",
    "padding_value = -20\n",
    "\n",
    "dataset = \"toy_model\"\n",
    "dataset_store_path = \"/eos/user/t/tihsu/database/ML_hackthon/toy_model\"\n",
    "transform = None\n",
    "transform_y = None\n",
    "mask = True"
   ]
  },
  {
   "cell_type": "markdown",
   "id": "b639da82",
   "metadata": {},
   "source": [
    "### Training parameter"
   ]
  },
  {
   "cell_type": "code",
   "execution_count": 13,
   "id": "6d892aaa",
   "metadata": {},
   "outputs": [
    {
     "name": "stdout",
     "output_type": "stream",
     "text": [
      "torch version:  2.0.1\n",
      "Running on device: \n",
      "Working directory:  ./\n"
     ]
    },
    {
     "ename": "FileNotFoundError",
     "evalue": "[Errno 2] No such file or directory: 'samples'",
     "output_type": "error",
     "traceback": [
      "\u001b[0;31m---------------------------------------------------------------------------\u001b[0m",
      "\u001b[0;31mFileNotFoundError\u001b[0m                         Traceback (most recent call last)",
      "Cell \u001b[0;32mIn[13], line 23\u001b[0m\n\u001b[1;32m     20\u001b[0m \u001b[38;5;28mprint\u001b[39m(\u001b[38;5;124m'\u001b[39m\u001b[38;5;124mWorking directory: \u001b[39m\u001b[38;5;124m'\u001b[39m, workingdir)\n\u001b[1;32m     22\u001b[0m files_list_ \u001b[38;5;241m=\u001b[39m []\n\u001b[0;32m---> 23\u001b[0m \u001b[38;5;28;01mfor\u001b[39;00m filename \u001b[38;5;129;01min\u001b[39;00m \u001b[43mos\u001b[49m\u001b[38;5;241;43m.\u001b[39;49m\u001b[43mlistdir\u001b[49m\u001b[43m(\u001b[49m\u001b[38;5;124;43m'\u001b[39;49m\u001b[38;5;124;43msamples\u001b[39;49m\u001b[38;5;124;43m'\u001b[39;49m\u001b[43m)\u001b[49m:\n\u001b[1;32m     24\u001b[0m     \u001b[38;5;28;01mif\u001b[39;00m fnmatch\u001b[38;5;241m.\u001b[39mfnmatch(filename, \u001b[38;5;124m'\u001b[39m\u001b[38;5;124m*\u001b[39m\u001b[38;5;124m'\u001b[39m \u001b[38;5;241m+\u001b[39m dataset \u001b[38;5;241m+\u001b[39m \u001b[38;5;124m'\u001b[39m\u001b[38;5;124m*.pt\u001b[39m\u001b[38;5;124m'\u001b[39m):\n\u001b[1;32m     25\u001b[0m         files_list_\u001b[38;5;241m.\u001b[39mappend(os\u001b[38;5;241m.\u001b[39mpath\u001b[38;5;241m.\u001b[39mjoin(\u001b[38;5;124m'\u001b[39m\u001b[38;5;124msamples\u001b[39m\u001b[38;5;124m'\u001b[39m, filename))\n",
      "\u001b[0;31mFileNotFoundError\u001b[0m: [Errno 2] No such file or directory: 'samples'"
     ]
    }
   ],
   "source": [
    "batch_size = 150\n",
    "lr = 0.0001\n",
    "n_epochs = 20\n",
    "workingdir = \"./\"\n",
    "batch_size = 150\n",
    "train_ratio = 0.9\n",
    "\n",
    "sigma = 25.0\n",
    "vesde = util.dataset_structure.VESDE#(device=device)\n",
    "new_marginal_prob_std_fn = functools.partial(vesde.marginal_prob)\n",
    "new_diffusion_coeff_fn   = functools.partial(vesde.sde)\n",
    "\n",
    "print('torch version: ', torch.__version__)\n",
    "print('Running on device: ')#, device)\n",
    "if torch.cuda.is_available():\n",
    "    print('Cuda used to build pyTorch: ',torch.version.cuda)\n",
    "    print('Current device: ', torch.cuda.current_device())\n",
    "    print('Cuda arch list: ', torch.cuda.get_arch_list())\n",
    "\n",
    "print('Working directory: ', workingdir)\n",
    "\n",
    "files_list_ = []\n",
    "for filename in os.listdir('samples'):\n",
    "    if fnmatch.fnmatch(filename, '*' + dataset + '*.pt'):\n",
    "        files_list_.append(os.path.join('samples', filename))\n",
    "print(files_list_)\n",
    "\n",
    "n_features = 4\n",
    "embed_dim = 64\n",
    "hidden_dim = 128\n",
    "n_transformer = 6\n",
    "n_head  = 4\n",
    "dropout = 0\n",
    "model = util.model.Gen(n_features, embed_dim, hidden_dim, n_transformer, n_head, dropout, marginal_prob_std=new_marginal_prob_std_fn)\n",
    "print('model: ', model)\n",
    "\n",
    "if mask:\n",
    "    mask_label = 'mask'\n",
    "else:\n",
    "    mask_label = 'no_mask'\n",
    "    \n",
    "label = f'embed{embed_dim}_hid{hidden_dim}_{n_transformer}trans_{n_head}head_dropout{dropout}_{mask_label}'\n",
    "print('label:', label)"
   ]
  },
  {
   "cell_type": "markdown",
   "id": "f9d8f58a",
   "metadata": {},
   "source": [
    "## Pad data (Optional)"
   ]
  },
  {
   "cell_type": "code",
   "execution_count": 8,
   "id": "c0ed8196",
   "metadata": {},
   "outputs": [
    {
     "ename": "NameError",
     "evalue": "name 'dataset_store_path' is not defined",
     "output_type": "error",
     "traceback": [
      "\u001b[0;31m---------------------------------------------------------------------------\u001b[0m",
      "\u001b[0;31mNameError\u001b[0m                                 Traceback (most recent call last)",
      "Cell \u001b[0;32mIn[8], line 2\u001b[0m\n\u001b[1;32m      1\u001b[0m files_list_ \u001b[38;5;241m=\u001b[39m []\n\u001b[0;32m----> 2\u001b[0m \u001b[38;5;28;01mfor\u001b[39;00m filename \u001b[38;5;129;01min\u001b[39;00m os\u001b[38;5;241m.\u001b[39mlistdir(\u001b[43mdataset_store_path\u001b[49m):\n\u001b[1;32m      3\u001b[0m     \u001b[38;5;28;01mif\u001b[39;00m fnmatch\u001b[38;5;241m.\u001b[39mfnmatch(filename, \u001b[38;5;124m'\u001b[39m\u001b[38;5;124m*\u001b[39m\u001b[38;5;124m'\u001b[39m \u001b[38;5;241m+\u001b[39m dataset \u001b[38;5;241m+\u001b[39m \u001b[38;5;124m'\u001b[39m\u001b[38;5;124m*.pt\u001b[39m\u001b[38;5;124m'\u001b[39m):\n\u001b[1;32m      4\u001b[0m         files_list_\u001b[38;5;241m.\u001b[39mappend(os\u001b[38;5;241m.\u001b[39mpath\u001b[38;5;241m.\u001b[39mjoin(dataset_store_path, filename))\n",
      "\u001b[0;31mNameError\u001b[0m: name 'dataset_store_path' is not defined"
     ]
    }
   ],
   "source": [
    "files_list_ = []\n",
    "for filename in os.listdir(dataset_store_path):\n",
    "    if fnmatch.fnmatch(filename, '*' + dataset + '*.pt'):\n",
    "        files_list_.append(os.path.join(dataset_store_path, filename))\n",
    "        \n",
    "tqdm_file = tqdm.notebook.trange(len(files_list_))\n",
    "os.system(\"mkdir -p samples\")\n",
    "for index in tqdm_file:\n",
    "    file_name = files_list_[index]\n",
    "    data = util.dataset_structure.cloud_dataset(file_name, device=device)\n",
    "    data.padding()\n",
    "    data.save(os.path.join(\"samples\", (file_name.split('/')[-1]).replace('no_pedding','padding')))"
   ]
  },
  {
   "cell_type": "markdown",
   "id": "681173e7",
   "metadata": {},
   "source": [
    "## Plot data distribution (Optional)"
   ]
  },
  {
   "cell_type": "code",
   "execution_count": 3,
   "id": "0b7a9ecc",
   "metadata": {},
   "outputs": [
    {
     "ename": "NameError",
     "evalue": "name 'util' is not defined",
     "output_type": "error",
     "traceback": [
      "\u001b[0;31m---------------------------------------------------------------------------\u001b[0m",
      "\u001b[0;31mNameError\u001b[0m                                 Traceback (most recent call last)",
      "Cell \u001b[0;32mIn[3], line 2\u001b[0m\n\u001b[1;32m      1\u001b[0m plot_file_name \u001b[38;5;241m=\u001b[39m \u001b[38;5;124m\"\u001b[39m\u001b[38;5;124msamples/toy_model.pt\u001b[39m\u001b[38;5;124m\"\u001b[39m\n\u001b[0;32m----> 2\u001b[0m custom_data \u001b[38;5;241m=\u001b[39m \u001b[43mutil\u001b[49m\u001b[38;5;241m.\u001b[39mdataset_structure\u001b[38;5;241m.\u001b[39mcloud_dataset(plot_file_name,device\u001b[38;5;241m=\u001b[39mdevice, transform\u001b[38;5;241m=\u001b[39mtransform, transform_y\u001b[38;5;241m=\u001b[39mtransform_y)\n\u001b[1;32m      3\u001b[0m point_clouds_loader \u001b[38;5;241m=\u001b[39m DataLoader(custom_data, batch_size\u001b[38;5;241m=\u001b[39m\u001b[38;5;241m150\u001b[39m, shuffle\u001b[38;5;241m=\u001b[39m\u001b[38;5;28;01mFalse\u001b[39;00m)\n\u001b[1;32m      4\u001b[0m fig \u001b[38;5;241m=\u001b[39m util\u001b[38;5;241m.\u001b[39mdisplay\u001b[38;5;241m.\u001b[39mplot_distribution(point_clouds_loader, label\u001b[38;5;241m=\u001b[39m\u001b[38;5;124m\"\u001b[39m\u001b[38;5;124mGeant4\u001b[39m\u001b[38;5;124m\"\u001b[39m)\n",
      "\u001b[0;31mNameError\u001b[0m: name 'util' is not defined"
     ]
    }
   ],
   "source": [
    "plot_file_name = \"samples/toy_model.pt\"\n",
    "custom_data = util.dataset_structure.cloud_dataset(plot_file_name,device=device, transform=transform, transform_y=transform_y)\n",
    "point_clouds_loader = DataLoader(custom_data, batch_size=150, shuffle=False)\n",
    "fig = util.display.plot_distribution(point_clouds_loader, label=\"Geant4\")\n",
    "fig.show()"
   ]
  },
  {
   "cell_type": "markdown",
   "id": "25ad8532",
   "metadata": {},
   "source": [
    "## Training"
   ]
  },
  {
   "cell_type": "markdown",
   "id": "f20520d2",
   "metadata": {},
   "source": [
    "### Start to train!!"
   ]
  },
  {
   "cell_type": "code",
   "execution_count": 9,
   "id": "a7dd95fa",
   "metadata": {
    "scrolled": true
   },
   "outputs": [
    {
     "name": "stdout",
     "output_type": "stream",
     "text": [
      "Output directory:  training_result/embed64_hid128_6trans_4head_dropout0_mask/\n"
     ]
    },
    {
     "data": {
      "application/vnd.jupyter.widget-view+json": {
       "model_id": "f5623906ed564836a50455cea57c055a",
       "version_major": 2,
       "version_minor": 0
      },
      "text/plain": [
       "  0%|          | 0/20 [00:00<?, ?it/s]"
      ]
     },
     "metadata": {},
     "output_type": "display_data"
    },
    {
     "data": {
      "image/png": "[encoded data removed]",
      "text/plain": [
       "<Figure size 288x288 with 1 Axes>"
      ]
     },
     "metadata": {},
     "output_type": "display_data"
    },
    {
     "name": "stderr",
     "output_type": "stream",
     "text": [
      "/eos/home-i00/t/tihsu/SWAN_projects/ML_hackathon/tdsm_encoder/util/dataset_structure.py:10: UserWarning:\n",
      "\n",
      "To copy construct from a tensor, it is recommended to use sourceTensor.clone().detach() or sourceTensor.clone().detach().requires_grad_(True), rather than torch.tensor(sourceTensor).\n",
      "\n"
     ]
    },
    {
     "data": {
      "text/plain": [
       "Gen(\n",
       "  (embed): Linear(in_features=4, out_features=64, bias=True)\n",
       "  (embed_t): Sequential(\n",
       "    (0): GaussianFourierProjection()\n",
       "    (1): Linear(in_features=64, out_features=64, bias=True)\n",
       "  )\n",
       "  (dense1): Dense(\n",
       "    (dense): Linear(in_features=64, out_features=1, bias=True)\n",
       "  )\n",
       "  (encoder): ModuleList(\n",
       "    (0): Block(\n",
       "      (attn): MultiheadAttention(\n",
       "        (out_proj): NonDynamicallyQuantizableLinear(in_features=64, out_features=64, bias=True)\n",
       "      )\n",
       "      (dropout): Dropout(p=0, inplace=False)\n",
       "      (fc1): Linear(in_features=64, out_features=128, bias=True)\n",
       "      (fc2): Linear(in_features=128, out_features=64, bias=True)\n",
       "      (fc1_cls): Linear(in_features=64, out_features=128, bias=True)\n",
       "      (fc2_cls): Linear(in_features=128, out_features=64, bias=True)\n",
       "      (act): GELU()\n",
       "      (act_dropout): Dropout(p=0, inplace=False)\n",
       "    )\n",
       "    (1): Block(\n",
       "      (attn): MultiheadAttention(\n",
       "        (out_proj): NonDynamicallyQuantizableLinear(in_features=64, out_features=64, bias=True)\n",
       "      )\n",
       "      (dropout): Dropout(p=0, inplace=False)\n",
       "      (fc1): Linear(in_features=64, out_features=128, bias=True)\n",
       "      (fc2): Linear(in_features=128, out_features=64, bias=True)\n",
       "      (fc1_cls): Linear(in_features=64, out_features=128, bias=True)\n",
       "      (fc2_cls): Linear(in_features=128, out_features=64, bias=True)\n",
       "      (act): GELU()\n",
       "      (act_dropout): Dropout(p=0, inplace=False)\n",
       "    )\n",
       "    (2): Block(\n",
       "      (attn): MultiheadAttention(\n",
       "        (out_proj): NonDynamicallyQuantizableLinear(in_features=64, out_features=64, bias=True)\n",
       "      )\n",
       "      (dropout): Dropout(p=0, inplace=False)\n",
       "      (fc1): Linear(in_features=64, out_features=128, bias=True)\n",
       "      (fc2): Linear(in_features=128, out_features=64, bias=True)\n",
       "      (fc1_cls): Linear(in_features=64, out_features=128, bias=True)\n",
       "      (fc2_cls): Linear(in_features=128, out_features=64, bias=True)\n",
       "      (act): GELU()\n",
       "      (act_dropout): Dropout(p=0, inplace=False)\n",
       "    )\n",
       "    (3): Block(\n",
       "      (attn): MultiheadAttention(\n",
       "        (out_proj): NonDynamicallyQuantizableLinear(in_features=64, out_features=64, bias=True)\n",
       "      )\n",
       "      (dropout): Dropout(p=0, inplace=False)\n",
       "      (fc1): Linear(in_features=64, out_features=128, bias=True)\n",
       "      (fc2): Linear(in_features=128, out_features=64, bias=True)\n",
       "      (fc1_cls): Linear(in_features=64, out_features=128, bias=True)\n",
       "      (fc2_cls): Linear(in_features=128, out_features=64, bias=True)\n",
       "      (act): GELU()\n",
       "      (act_dropout): Dropout(p=0, inplace=False)\n",
       "    )\n",
       "    (4): Block(\n",
       "      (attn): MultiheadAttention(\n",
       "        (out_proj): NonDynamicallyQuantizableLinear(in_features=64, out_features=64, bias=True)\n",
       "      )\n",
       "      (dropout): Dropout(p=0, inplace=False)\n",
       "      (fc1): Linear(in_features=64, out_features=128, bias=True)\n",
       "      (fc2): Linear(in_features=128, out_features=64, bias=True)\n",
       "      (fc1_cls): Linear(in_features=64, out_features=128, bias=True)\n",
       "      (fc2_cls): Linear(in_features=128, out_features=64, bias=True)\n",
       "      (act): GELU()\n",
       "      (act_dropout): Dropout(p=0, inplace=False)\n",
       "    )\n",
       "    (5): Block(\n",
       "      (attn): MultiheadAttention(\n",
       "        (out_proj): NonDynamicallyQuantizableLinear(in_features=64, out_features=64, bias=True)\n",
       "      )\n",
       "      (dropout): Dropout(p=0, inplace=False)\n",
       "      (fc1): Linear(in_features=64, out_features=128, bias=True)\n",
       "      (fc2): Linear(in_features=128, out_features=64, bias=True)\n",
       "      (fc1_cls): Linear(in_features=64, out_features=128, bias=True)\n",
       "      (fc2_cls): Linear(in_features=128, out_features=64, bias=True)\n",
       "      (act): GELU()\n",
       "      (act_dropout): Dropout(p=0, inplace=False)\n",
       "    )\n",
       "  )\n",
       "  (dropout): Dropout(p=0, inplace=False)\n",
       "  (out): Linear(in_features=64, out_features=4, bias=True)\n",
       "  (act): GELU()\n",
       ")"
      ]
     },
     "execution_count": 9,
     "metadata": {},
     "output_type": "execute_result"
    },
    {
     "data": {
      "image/png": "[encoded data removed]",
      "text/plain": [
       "<Figure size 288x288 with 1 Axes>"
      ]
     },
     "metadata": {
      "needs_background": "light"
     },
     "output_type": "display_data"
    }
   ],
   "source": [
    "util.model.training(batch_size = batch_size,\n",
    "                    lr = lr,\n",
    "                    n_epochs = n_epochs,\n",
    "                    model = model,\n",
    "                    new_marginal_prob_std_fn = new_marginal_prob_std_fn,\n",
    "                    device = device,\n",
    "                    jupyternotebook = True,\n",
    "                    files_list = files_list_,\n",
    "                    train_ratio = train_ratio,\n",
    "                    mask=mask, padding_value=padding_value,\n",
    "                    label=label,\n",
    "                    transform = transform,\n",
    "                    transform_y = transform_y)"
   ]
  },
  {
   "cell_type": "markdown",
   "id": "28c5a04c",
   "metadata": {},
   "source": [
    "## Sampling "
   ]
  },
  {
   "cell_type": "code",
   "execution_count": 14,
   "id": "26d03caa",
   "metadata": {
    "scrolled": false
   },
   "outputs": [
    {
     "ename": "NameError",
     "evalue": "name 'model' is not defined",
     "output_type": "error",
     "traceback": [
      "\u001b[0;31m---------------------------------------------------------------------------\u001b[0m",
      "\u001b[0;31mNameError\u001b[0m                                 Traceback (most recent call last)",
      "Cell \u001b[0;32mIn[14], line 2\u001b[0m\n\u001b[1;32m      1\u001b[0m hits_energies \u001b[38;5;241m=\u001b[39m torch\u001b[38;5;241m.\u001b[39mrand(\u001b[38;5;241m20000\u001b[39m)\u001b[38;5;241m*\u001b[39m\u001b[38;5;241m200\u001b[39m\n\u001b[0;32m----> 2\u001b[0m sample, in_energies, nhits \u001b[38;5;241m=\u001b[39m util\u001b[38;5;241m.\u001b[39mmodel\u001b[38;5;241m.\u001b[39mgenerate_sample(model\u001b[38;5;241m=\u001b[39m\u001b[43mmodel\u001b[49m,\n\u001b[1;32m      3\u001b[0m                                                         marginal_prob_std\u001b[38;5;241m=\u001b[39mnew_marginal_prob_std_fn, \n\u001b[1;32m      4\u001b[0m                                                         diffusion_coeff\u001b[38;5;241m=\u001b[39mnew_diffusion_coeff_fn,\n\u001b[1;32m      5\u001b[0m                                                         sample_batch_size\u001b[38;5;241m=\u001b[39m\u001b[38;5;241m10000\u001b[39m,\n\u001b[1;32m      6\u001b[0m                                                         n_bin\u001b[38;5;241m=\u001b[39m\u001b[38;5;241m200\u001b[39m,\n\u001b[1;32m      7\u001b[0m                                                         load_name \u001b[38;5;241m=\u001b[39m \u001b[38;5;124m\"\u001b[39m\u001b[38;5;124mtraining_result/\u001b[39m\u001b[38;5;124m\"\u001b[39m\u001b[38;5;241m+\u001b[39mlabel\u001b[38;5;241m+\u001b[39m\u001b[38;5;124m\"\u001b[39m\u001b[38;5;124m/ckpt_tmp_19.pth\u001b[39m\u001b[38;5;124m\"\u001b[39m,\n\u001b[1;32m      8\u001b[0m                                                         device\u001b[38;5;241m=\u001b[39mdevice,\n\u001b[1;32m      9\u001b[0m                                                         in_energies\u001b[38;5;241m=\u001b[39mhits_energies,\n\u001b[1;32m     10\u001b[0m                                                         sampled_file_list\u001b[38;5;241m=\u001b[39m[\u001b[38;5;124m\"\u001b[39m\u001b[38;5;124msamples/toy_model.pt\u001b[39m\u001b[38;5;124m\"\u001b[39m],\n\u001b[1;32m     11\u001b[0m                                                         mask\u001b[38;5;241m=\u001b[39mmask, \n\u001b[1;32m     12\u001b[0m                                                         jupyternotebook\u001b[38;5;241m=\u001b[39m\u001b[38;5;28;01mTrue\u001b[39;00m,\n\u001b[1;32m     13\u001b[0m                                                         label \u001b[38;5;241m=\u001b[39m label,\n\u001b[1;32m     14\u001b[0m                                                         transform \u001b[38;5;241m=\u001b[39m transform,\n\u001b[1;32m     15\u001b[0m                                                         transform_y \u001b[38;5;241m=\u001b[39m transform_y,\n\u001b[1;32m     16\u001b[0m                                                         padding_value\u001b[38;5;241m=\u001b[39m\u001b[38;5;241m0\u001b[39m)\n",
      "\u001b[0;31mNameError\u001b[0m: name 'model' is not defined"
     ]
    }
   ],
   "source": [
    "hits_energies = torch.rand(20000)*200\n",
    "sample, in_energies, nhits = util.model.generate_sample(model=model,\n",
    "                                                        marginal_prob_std=new_marginal_prob_std_fn, \n",
    "                                                        diffusion_coeff=new_diffusion_coeff_fn,\n",
    "                                                        sample_batch_size=10000,\n",
    "                                                        n_bin=200,\n",
    "                                                        load_name = \"training_result/\"+label+\"/ckpt_tmp_19.pth\",\n",
    "                                                        device=device,\n",
    "                                                        in_energies=hits_energies,\n",
    "                                                        sampled_file_list=[\"samples/toy_model.pt\"],\n",
    "                                                        mask=mask, \n",
    "                                                        jupyternotebook=True,\n",
    "                                                        label = label,\n",
    "                                                        transform = transform,\n",
    "                                                        transform_y = transform_y,\n",
    "                                                        padding_value=0)"
   ]
  },
  {
   "cell_type": "markdown",
   "id": "717a064f",
   "metadata": {},
   "source": [
    "## Draw Generative Distribution"
   ]
  },
  {
   "cell_type": "code",
   "execution_count": 10,
   "id": "30b64eba",
   "metadata": {},
   "outputs": [
    {
     "data": {
      "image/png": "[encoded data removed]",
      "text/plain": [
       "<Figure size 864x864 with 6 Axes>"
      ]
     },
     "metadata": {
      "needs_background": "light"
     },
     "output_type": "display_data"
    }
   ],
   "source": [
    "plot_file_name = \"sampling/\"+label+\"/sample.pt\"\n",
    "custom_data = util.dataset_structure.cloud_dataset(plot_file_name,device=device, transform = transform, transform_y=transform_y)\n",
    "custom_data.padding()\n",
    "point_clouds_loader = DataLoader(custom_data, batch_size=150, shuffle=False)\n",
    "fig = util.display.plot_distribution(point_clouds_loader, label=\"Gen\")\n",
    "fig.show()"
   ]
  },
  {
   "cell_type": "code",
   "execution_count": null,
   "id": "35ea78a9",
   "metadata": {},
   "outputs": [],
   "source": []
  }
 ],
 "metadata": {
  "kernelspec": {
   "display_name": "Python 3 (ipykernel)",
   "language": "python",
   "name": "python3"
  },
  "language_info": {
   "codemirror_mode": {
    "name": "ipython",
    "version": 3
   },
   "file_extension": ".py",
   "mimetype": "text/x-python",
   "name": "python",
   "nbconvert_exporter": "python",
   "pygments_lexer": "ipython3",
   "version": "3.10.9"
  }
 },
 "nbformat": 4,
 "nbformat_minor": 5
}
